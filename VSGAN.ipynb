{
  "nbformat": 4,
  "nbformat_minor": 0,
  "metadata": {
    "colab": {
      "name": "VSGAN.ipynb",
      "provenance": [],
      "collapsed_sections": [],
      "include_colab_link": true
    },
    "kernelspec": {
      "name": "python3",
      "display_name": "Python 3"
    },
    "language_info": {
      "name": "python"
    },
    "accelerator": "GPU"
  },
  "cells": [
    {
      "cell_type": "markdown",
      "metadata": {
        "id": "view-in-github",
        "colab_type": "text"
      },
      "source": [
        "<a href=\"https://colab.research.google.com/github/MrPhipps/Colabs/blob/main/VSGAN.ipynb\" target=\"_parent\"><img src=\"https://colab.research.google.com/assets/colab-badge.svg\" alt=\"Open In Colab\"/></a>"
      ]
    },
    {
      "cell_type": "markdown",
      "metadata": {
        "id": "k_ELpa5TJi00"
      },
      "source": [
        "The Cells from `Connecting the GPU` to `Installing VSGAN` are required. They must also be run in the shown order.\n",
        "\n",
        "Yuuno is a convenience IPython module but it is not required to be used. You may simply use vspipe instead."
      ]
    },
    {
      "cell_type": "code",
      "metadata": {
        "id": "pimC0UKed6m9",
        "cellView": "form"
      },
      "source": [
        "#@title Connect to GPU\n",
        "#@markdown Enable GPU in Runtime -> Change runtime type first\n",
        "gpu = !nvidia-smi --query-gpu=gpu_name --format=csv\n",
        "print(\"GPU:\", gpu[1] or \"None\")\n",
        "print(\"The Tesla T4 and P100 are fast and support hardware encoding. The K80 and P4 are slower.\")\n",
        "print(\"Sometimes resetting the instance in the 'runtime' tab will give you a different GPU.\")"
      ],
      "execution_count": null,
      "outputs": []
    },
    {
      "cell_type": "code",
      "metadata": {
        "cellView": "form",
        "id": "DANHrbp1B2Ha"
      },
      "source": [
        "#@title Install apt-fast for parallel apt downloads\n",
        "!bash -c \"$(curl -sL https://git.io/vokNn)\"\n",
        "print(\"apt-fast installed\")"
      ],
      "execution_count": null,
      "outputs": []
    },
    {
      "cell_type": "code",
      "metadata": {
        "id": "Qii9SDcHrgI6",
        "cellView": "form"
      },
      "source": [
        "#@title Install VapourSynth\n",
        "#@markdown This does not install ANY scripts or plugins, just VapourSynth.\n",
        "sources = !cat /etc/apt/sources.list\n",
        "if \"deb https://www.deb-multimedia.org\" not in sources:\n",
        "    with open(\"/etc/apt/sources.list\", \"a+\") as f:\n",
        "        f.write(\"deb https://www.deb-multimedia.org buster main non-free\\n\")\n",
        "if \"ftp.us.debian.org/debian/ sid main\" not in sources:\n",
        "    with open(\"/etc/apt/sources.list\", \"a+\") as f:\n",
        "        f.write(\"deb http://ftp.us.debian.org/debian/ buster main\\n\")\n",
        "!apt-fast update -oAcquire::AllowInsecureRepositories=true\n",
        "!apt-fast install -y --allow-unauthenticated deb-multimedia-keyring\n",
        "print(\"Prepared apt sources!\")\n",
        "!apt-fast install -y --allow-unauthenticated vapoursynth\n",
        "print(\"Installed VapourSynth\")"
      ],
      "execution_count": null,
      "outputs": []
    },
    {
      "cell_type": "code",
      "metadata": {
        "cellView": "form",
        "id": "3nrQ9CkVLi5f"
      },
      "source": [
        "#@title Install VSGAN\n",
        "!pip install vsgan"
      ],
      "execution_count": null,
      "outputs": []
    },
    {
      "cell_type": "code",
      "metadata": {
        "id": "fogJyPRTfcD0",
        "cellView": "form"
      },
      "source": [
        "#@title Mount Google Drive to /gdrive\n",
        "\n",
        "import os\n",
        "from google.colab import drive\n",
        "\n",
        "if not os.path.isdir(\"/drive\"):\n",
        "  drive.mount(\"/gdrive\", force_remount=True)"
      ],
      "execution_count": null,
      "outputs": []
    },
    {
      "cell_type": "code",
      "metadata": {
        "cellView": "form",
        "id": "sfGzQtTUGpL3"
      },
      "source": [
        "#@title Install x264\n",
        "!apt-fast install -y --allow-unauthenticated x264"
      ],
      "execution_count": null,
      "outputs": []
    },
    {
      "cell_type": "code",
      "metadata": {
        "id": "gu5fUDDG9kV0",
        "cellView": "form"
      },
      "source": [
        "#@title Install Yuuno\n",
        "#@markdown This is an optional convenience feature, allowing IPython % magic commands.\n",
        "!pip install yuuno\n",
        "!yuuno jupyter install"
      ],
      "execution_count": null,
      "outputs": []
    },
    {
      "cell_type": "code",
      "metadata": {
        "id": "F93E3XJR9wMv"
      },
      "source": [
        "#@title After installing Yuuno, reboot (NOT RESET!) the current instance then start this.\n",
        "#@markdown For some reason it thinks yuuno isn't an IPython module if you don't first restart.\n",
        "%load_ext yuuno"
      ],
      "execution_count": null,
      "outputs": []
    },
    {
      "cell_type": "code",
      "metadata": {
        "id": "fz8T-VmrFWUg"
      },
      "source": [
        "#@title Start an example encode and download it\n",
        "%%vspipe --y4m | x264 - --demuxer y4m -o example.mkv\n",
        "clip = core.std.BlankClip(color=[0,255,255])\n",
        "clip = core.resize.Spline36(clip, format=vs.YUV420P8, matrix=1)\n",
        "clip.set_output()"
      ],
      "execution_count": null,
      "outputs": []
    },
    {
      "cell_type": "code",
      "metadata": {
        "id": "uLki64YTFfh7"
      },
      "source": [
        "#@title Download the example encode\n",
        "from google.colab import files\n",
        "files.download(\"example.mkv\")"
      ],
      "execution_count": null,
      "outputs": []
    },
    {
      "cell_type": "code",
      "metadata": {
        "id": "boz0Pqnd-inq"
      },
      "source": [
        "#@title Example Yuuno vspreview call.\n",
        "#@markdown Note: Yuuno features that return a preview dialog doesn't seem to work on Google Colab.\n",
        "%%vspreview\n",
        "clip = core.std.BlankClip(color=[0,255,255])\n",
        "clip.set_output()"
      ],
      "execution_count": null,
      "outputs": []
    }
  ]
}